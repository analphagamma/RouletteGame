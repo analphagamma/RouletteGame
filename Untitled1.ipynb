{
 "cells": [
  {
   "cell_type": "code",
   "execution_count": 60,
   "metadata": {},
   "outputs": [],
   "source": [
    "class Bar():\n",
    "    def __init__(self, a, b):\n",
    "        self.a = a\n",
    "        self.b = b\n",
    "\n",
    "\n",
    "class Foo():\n",
    "    def __init__(self, name, lst):\n",
    "        self.name = name\n",
    "        self.lst = lst\n",
    "        \n",
    "    def __iter__(self):\n",
    "        gen = (elem for elem in self.lst)\n",
    "        return gen\n",
    "        \n",
    "    def __str__(self):\n",
    "        mes_list = []\n",
    "        for mes in self.__iter__():\n",
    "            mes_list.append(mes.a)\n",
    "        return '\\n'.join(mes_list)"
   ]
  },
  {
   "cell_type": "code",
   "execution_count": 61,
   "metadata": {},
   "outputs": [],
   "source": [
    "b1 = Bar('kaki', 5)\n",
    "b2 = Bar('pisi', 4)\n",
    "b3 = Bar('kuki', 10)\n",
    "b4 = Bar('punyo', 2)\n",
    "f = Foo('AZ', [b1,b2,b3,b4])"
   ]
  },
  {
   "cell_type": "code",
   "execution_count": 62,
   "metadata": {},
   "outputs": [
    {
     "data": {
      "text/plain": [
       "<__main__.Foo at 0x7f323059a160>"
      ]
     },
     "execution_count": 62,
     "metadata": {},
     "output_type": "execute_result"
    }
   ],
   "source": [
    "f"
   ]
  },
  {
   "cell_type": "code",
   "execution_count": 63,
   "metadata": {},
   "outputs": [
    {
     "name": "stdout",
     "output_type": "stream",
     "text": [
      "<__main__.Bar object at 0x7f323059a048>\n",
      "kaki\n",
      "<__main__.Bar object at 0x7f323059a3c8>\n",
      "pisi\n",
      "<__main__.Bar object at 0x7f323059ac50>\n",
      "kuki\n",
      "<__main__.Bar object at 0x7f323059ab00>\n",
      "punyo\n"
     ]
    }
   ],
   "source": [
    "for n in f:\n",
    "    print(n)\n",
    "    print(n.a)"
   ]
  },
  {
   "cell_type": "code",
   "execution_count": 64,
   "metadata": {},
   "outputs": [
    {
     "name": "stdout",
     "output_type": "stream",
     "text": [
      "kaki\n",
      "pisi\n",
      "kuki\n",
      "punyo\n"
     ]
    }
   ],
   "source": [
    "print(f)"
   ]
  },
  {
   "cell_type": "code",
   "execution_count": 54,
   "metadata": {},
   "outputs": [
    {
     "name": "stdout",
     "output_type": "stream",
     "text": [
      "kaki\n"
     ]
    }
   ],
   "source": [
    "print(f)"
   ]
  },
  {
   "cell_type": "code",
   "execution_count": null,
   "metadata": {
    "collapsed": true
   },
   "outputs": [],
   "source": []
  }
 ],
 "metadata": {
  "kernelspec": {
   "display_name": "Python 3",
   "language": "python",
   "name": "python3"
  },
  "language_info": {
   "codemirror_mode": {
    "name": "ipython",
    "version": 3
   },
   "file_extension": ".py",
   "mimetype": "text/x-python",
   "name": "python",
   "nbconvert_exporter": "python",
   "pygments_lexer": "ipython3",
   "version": "3.6.4"
  }
 },
 "nbformat": 4,
 "nbformat_minor": 2
}
